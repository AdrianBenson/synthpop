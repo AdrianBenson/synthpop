{
 "cells": [
  {
   "cell_type": "code",
   "execution_count": null,
   "metadata": {},
   "outputs": [],
   "source": [
    "%load_ext autoreload\n",
    "%autoreload 2\n",
    "from synthpop.census_helpers import Census\n",
    "from synthpop import categorizer as cat\n",
    "import pandas as pd\n",
    "import numpy as np\n",
    "import os\n",
    "pd.set_option('display.max_columns', 500)"
   ]
  },
  {
   "cell_type": "markdown",
   "metadata": {},
   "source": [
    "## The census api needs a key - you can register for can sign up"
   ]
  },
  {
   "cell_type": "markdown",
   "metadata": {},
   "source": [
    "### http://api.census.gov/data/key_signup.html"
   ]
  },
  {
   "cell_type": "code",
   "execution_count": null,
   "metadata": {},
   "outputs": [],
   "source": [
    "c = Census(os.environ[\"CENSUS\"])"
   ]
  },
  {
   "cell_type": "markdown",
   "metadata": {},
   "source": [
    "## Here we get aggregate information on households from ACS - note some variables are associated with block groups and others with tracts"
   ]
  },
  {
   "cell_type": "code",
   "execution_count": null,
   "metadata": {},
   "outputs": [],
   "source": [
    "income_columns = ['B19001_0%02dE'%i for i in range(1, 18)]\n",
    "vehicle_columns = ['B08201_0%02dE'%i for i in range(1, 7)]\n",
    "workers_columns = ['B08202_0%02dE'%i for i in range(1, 6)]\n",
    "families_columns = ['B11001_001E', 'B11001_002E']\n",
    "block_group_columns = income_columns + families_columns\n",
    "tract_columns = vehicle_columns + workers_columns\n",
    "h_acs = c.block_group_and_tract_query(block_group_columns,\n",
    "                tract_columns, \"06\", \"075\", \n",
    "                merge_columns=['tract', 'county', 'state'],\n",
    "                block_group_size_attr=\"B11001_001E\",\n",
    "                tract_size_attr=\"B08201_001E\",\n",
    "                tract=\"030600\")\n",
    "h_acs"
   ]
  },
  {
   "cell_type": "markdown",
   "metadata": {},
   "source": [
    "## And here is aggregate information on people from ACS "
   ]
  },
  {
   "cell_type": "code",
   "execution_count": null,
   "metadata": {},
   "outputs": [],
   "source": [
    "population = ['B01001_001E']\n",
    "sex = ['B01001_002E', 'B01001_026E']\n",
    "race = ['B02001_0%02dE'%i for i in range(1,11)]\n",
    "male_age_columns = ['B01001_0%02dE'%i for i in range(3,26)]\n",
    "female_age_columns = ['B01001_0%02dE'%i for i in range(27,50)]\n",
    "all_columns = population + sex + race + male_age_columns + female_age_columns\n",
    "p_acs = c.block_group_query(all_columns, \"06\", \"075\", tract=\"030600\")\n",
    "p_acs"
   ]
  },
  {
   "cell_type": "markdown",
   "metadata": {},
   "source": [
    "## Get the puma for our test tracts - this actually downloads the mapping file from the census website so it might take a few seconds"
   ]
  },
  {
   "cell_type": "code",
   "execution_count": null,
   "metadata": {},
   "outputs": [],
   "source": [
    "puma = c.tract_to_puma(\"06\", \"075\", \"030600\")\n",
    "puma"
   ]
  },
  {
   "cell_type": "code",
   "execution_count": null,
   "metadata": {},
   "outputs": [],
   "source": [
    "puma10 = puma[0]\n",
    "puma00 = puma[1]"
   ]
  },
  {
   "cell_type": "markdown",
   "metadata": {},
   "source": [
    "## Download PUMS for people records for a PUMA from our server (we processed the large files into smaller ones for you)"
   ]
  },
  {
   "cell_type": "code",
   "execution_count": null,
   "metadata": {},
   "outputs": [],
   "source": [
    "p_pums = c.download_population_pums(\"06\", puma10=puma10, puma00=puma00)\n",
    "p_pums.head(5)"
   ]
  },
  {
   "cell_type": "markdown",
   "metadata": {},
   "source": [
    "## Download PUMS for household records for a PUMA"
   ]
  },
  {
   "cell_type": "code",
   "execution_count": null,
   "metadata": {},
   "outputs": [],
   "source": [
    "h_pums = c.download_household_pums(\"06\", puma10=puma10, puma00=puma00)\n",
    "h_pums.head(5)"
   ]
  },
  {
   "cell_type": "markdown",
   "metadata": {},
   "source": [
    "## Now the job is to categorize acs and pums into the same categories - we start with the household acs data"
   ]
  },
  {
   "cell_type": "code",
   "execution_count": null,
   "metadata": {},
   "outputs": [],
   "source": [
    "h_acs_cat = cat.categorize(h_acs, {\n",
    "    (\"households\", \"total\"): \"B11001_001E\",\n",
    "    (\"children\", \"yes\"): \"B11001_002E\",\n",
    "    (\"children\", \"no\"): \"B11001_001E - B11001_002E\",\n",
    "    (\"income\", \"lt35\"): \"B19001_002E + B19001_003E + B19001_004E + \"\n",
    "                        \"B19001_005E + B19001_006E + B19001_007E\",\n",
    "    (\"income\", \"gt35-lt100\"): \"B19001_008E + B19001_009E + \"\n",
    "                        \"B19001_010E + B19001_011E + B19001_012E\"\n",
    "                        \"+ B19001_013E\",\n",
    "    (\"income\", \"gt100\"): \"B19001_014E + B19001_015E + B19001_016E\"\n",
    "                        \"+ B19001_017E\",\n",
    "    (\"cars\", \"none\"): \"B08201_002E\",\n",
    "    (\"cars\", \"one\"): \"B08201_003E\",\n",
    "    (\"cars\", \"two or more\"): \"B08201_004E + B08201_005E + B08201_006E\",\n",
    "    (\"workers\", \"none\"): \"B08202_002E\",\n",
    "    (\"workers\", \"one\"): \"B08202_003E\",\n",
    "    (\"workers\", \"two or more\"): \"B08202_004E + B08202_005E\" \n",
    "}, index_cols=['NAME'])\n",
    "h_acs_cat"
   ]
  },
  {
   "cell_type": "code",
   "execution_count": null,
   "metadata": {},
   "outputs": [],
   "source": [
    "assert np.all(cat.sum_accross_category(h_acs_cat) < 2)"
   ]
  },
  {
   "cell_type": "markdown",
   "metadata": {},
   "source": [
    "## And the same for ACS population - the output of the categorization is the MARGINALS for each variable category"
   ]
  },
  {
   "cell_type": "code",
   "execution_count": null,
   "metadata": {},
   "outputs": [],
   "source": [
    "p_acs_cat = cat.categorize(p_acs, {\n",
    "    (\"population\", \"total\"): \"B01001_001E\",\n",
    "    (\"age\", \"19 and under\"): \"B01001_003E + B01001_004E + B01001_005E + \"\n",
    "                             \"B01001_006E + B01001_007E + B01001_027E + \"\n",
    "                             \"B01001_028E + B01001_029E + B01001_030E + \"\n",
    "                             \"B01001_031E\",\n",
    "    (\"age\", \"20 to 35\"): \"B01001_008E + B01001_009E + B01001_010E + \"\n",
    "                         \"B01001_011E + B01001_012E + B01001_032E + \"\n",
    "                         \"B01001_033E + B01001_034E + B01001_035E + \"\n",
    "                         \"B01001_036E\",\n",
    "    (\"age\", \"35 to 60\"): \"B01001_013E + B01001_014E + B01001_015E + \"\n",
    "                         \"B01001_016E + B01001_017E + B01001_037E + \"\n",
    "                         \"B01001_038E + B01001_039E + B01001_040E + \"\n",
    "                         \"B01001_041E\",\n",
    "    (\"age\", \"above 60\"): \"B01001_018E + B01001_019E + B01001_020E + \"\n",
    "                         \"B01001_021E + B01001_022E + B01001_023E + \"\n",
    "                         \"B01001_024E + B01001_025E + B01001_042E + \"\n",
    "                         \"B01001_043E + B01001_044E + B01001_045E + \"\n",
    "                         \"B01001_046E + B01001_047E + B01001_048E + \"\n",
    "                         \"B01001_049E\", \n",
    "    (\"race\", \"white\"):   \"B02001_002E\",\n",
    "    (\"race\", \"black\"):   \"B02001_003E\",\n",
    "    (\"race\", \"asian\"):   \"B02001_005E\",\n",
    "    (\"race\", \"other\"):   \"B02001_004E + B02001_006E + B02001_007E + \"\n",
    "                         \"B02001_008E\",\n",
    "    (\"sex\", \"male\"):     \"B01001_002E\",\n",
    "    (\"sex\", \"female\"):   \"B01001_026E\"\n",
    "}, index_cols=['NAME'])\n",
    "p_acs_cat"
   ]
  },
  {
   "cell_type": "code",
   "execution_count": null,
   "metadata": {},
   "outputs": [],
   "source": [
    "assert np.all(cat.sum_accross_category(p_acs_cat) < 2)"
   ]
  },
  {
   "cell_type": "markdown",
   "metadata": {},
   "source": [
    "## To get the marginals a series for one geography do this"
   ]
  },
  {
   "cell_type": "code",
   "execution_count": null,
   "metadata": {},
   "outputs": [],
   "source": [
    "p_acs_cat.iloc[0].transpose()"
   ]
  },
  {
   "cell_type": "markdown",
   "metadata": {},
   "source": [
    "## Now categorize the PUMS population data into the same categories"
   ]
  },
  {
   "cell_type": "code",
   "execution_count": null,
   "metadata": {},
   "outputs": [],
   "source": [
    "def age_cat(r):\n",
    "    if r.AGEP <= 19: return \"19 and under\"\n",
    "    elif r.AGEP <= 35: return \"20 to 35\"\n",
    "    elif r.AGEP <= 60: return \"35 to 60\"\n",
    "    return \"above 60\"\n",
    "\n",
    "def race_cat(r):\n",
    "    if r.RAC1P == 1: return \"white\"\n",
    "    elif r.RAC1P == 2: return \"black\"\n",
    "    elif r.RAC1P == 6: return \"asian\"\n",
    "    return \"other\"\n",
    "\n",
    "def sex_cat(r):\n",
    "    if r.SEX == 1: return \"male\"\n",
    "    return \"female\"\n",
    "\n",
    "_, jd_persons = cat.joint_distribution(\n",
    "    p_pums,\n",
    "    cat.category_combinations(p_acs_cat.columns),\n",
    "    {\"age\": age_cat, \"race\": race_cat, \"sex\": sex_cat}\n",
    ")\n",
    "jd_persons "
   ]
  },
  {
   "cell_type": "markdown",
   "metadata": {},
   "source": [
    "## Do the same for households - the output of this step is the JOINT DISTRIBUTIONS for the cross product of all possible categories"
   ]
  },
  {
   "cell_type": "code",
   "execution_count": null,
   "metadata": {},
   "outputs": [],
   "source": [
    "def cars_cat(r):\n",
    "    if r.VEH == 0: return \"none\"\n",
    "    elif r.VEH == 1: return \"one\"\n",
    "    return \"two or more\"\n",
    "\n",
    "def children_cat(r):\n",
    "    if r.NOC > 0: return \"yes\"\n",
    "    return \"no\"\n",
    "\n",
    "def income_cat(r):\n",
    "    if r.FINCP > 100000: return \"gt100\"\n",
    "    elif r.FINCP > 35000: return \"gt35-lt100\"\n",
    "    return \"lt35\"\n",
    "\n",
    "def workers_cat(r):\n",
    "    if r.WIF == 3: return \"two or more\"\n",
    "    elif r.WIF == 2: return \"two or more\"\n",
    "    elif r.WIF == 1: return \"one\"\n",
    "    return \"none\"\n",
    "\n",
    "_, jd_households = cat.joint_distribution(\n",
    "    h_pums,\n",
    "    cat.category_combinations(h_acs_cat.columns),\n",
    "    {\"cars\": cars_cat, \"children\": children_cat, \n",
    "     \"income\": income_cat, \"workers\": workers_cat}\n",
    ")\n",
    "jd_households"
   ]
  },
  {
   "cell_type": "markdown",
   "metadata": {},
   "source": [
    "## With marginals (aggregate, from ACS) and joint distribution (disaggregate, from PUMS) we're ready for some synthesis"
   ]
  },
  {
   "cell_type": "code",
   "execution_count": null,
   "metadata": {},
   "outputs": [],
   "source": [
    "\"TBD\""
   ]
  },
  {
   "cell_type": "code",
   "execution_count": null,
   "metadata": {},
   "outputs": [],
   "source": []
  }
 ],
 "metadata": {
  "kernelspec": {
   "display_name": "py27",
   "language": "python",
   "name": "py27"
  },
  "language_info": {
   "codemirror_mode": {
    "name": "ipython",
    "version": 2
   },
   "file_extension": ".py",
   "mimetype": "text/x-python",
   "name": "python",
   "nbconvert_exporter": "python",
   "pygments_lexer": "ipython2",
   "version": "2.7.14"
  }
 },
 "nbformat": 4,
 "nbformat_minor": 1
}
