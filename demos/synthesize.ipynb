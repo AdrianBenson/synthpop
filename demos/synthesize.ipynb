{
 "cells": [
  {
   "cell_type": "code",
   "execution_count": null,
   "metadata": {},
   "outputs": [],
   "source": [
    "%load_ext autoreload\n",
    "%autoreload 2\n",
    "from synthpop.recipes.starter2 import Starter\n",
    "from synthpop.synthesizer import synthesize_all, enable_logging \n",
    "import os\n",
    "import pandas as pd\n",
    "#enable_logging()"
   ]
  },
  {
   "cell_type": "code",
   "execution_count": null,
   "metadata": {},
   "outputs": [],
   "source": [
    "def synthesize_counties(counties):\n",
    "    for county in counties:\n",
    "        starter = Starter(os.environ[\"CENSUS\"], \"CA\", county)\n",
    "        synthesize_all(starter)\n",
    "%time hh = synthesize_counties([\"Santa Clara County\", \"Solano County\", \"San Mateo County\", \"Marin County\", \"San Francisco County\", \"Napa County\", \"Sonoma County\", \"Contra Costa County\", \"Alameda County\"])        "
   ]
  },
  {
   "cell_type": "code",
   "execution_count": null,
   "metadata": {},
   "outputs": [],
   "source": [
    "starter = Starter(os.environ[\"CENSUS\"], \"CA\", \"Santa Clara County\")"
   ]
  },
  {
   "cell_type": "code",
   "execution_count": null,
   "metadata": {},
   "outputs": [],
   "source": [
    "ind = pd.Series([\"06\", \"085\", \"508203\", \"3\"], index=[\"state\", \"county\", \"tract\", \"block group\"])\n",
    "synthesize_all(starter, indexes=[ind])"
   ]
  },
  {
   "cell_type": "code",
   "execution_count": null,
   "metadata": {},
   "outputs": [],
   "source": []
  }
 ],
 "metadata": {
  "kernelspec": {
   "display_name": "Python 3",
   "language": "python",
   "name": "python3"
  },
  "language_info": {
   "codemirror_mode": {
    "name": "ipython",
    "version": 3
   },
   "file_extension": ".py",
   "mimetype": "text/x-python",
   "name": "python",
   "nbconvert_exporter": "python",
   "pygments_lexer": "ipython3",
   "version": "3.6.4"
  }
 },
 "nbformat": 4,
 "nbformat_minor": 1
}
