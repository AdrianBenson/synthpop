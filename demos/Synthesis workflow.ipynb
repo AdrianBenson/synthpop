{
 "cells": [
  {
   "cell_type": "code",
   "execution_count": 1,
   "metadata": {},
   "outputs": [],
   "source": [
    "from fpdf import FPDF\n",
    "import seaborn as sns\n",
    "import matplotlib.pyplot as plt\n",
    "import pandas as pd\n",
    "import numpy as np\n",
    "import os\n",
    "import sys\n",
    "import argparse\n",
    "\n",
    "from synthpop.recipes.starter2 import Starter\n",
    "from synthpop.census_helpers import Census\n",
    "import warnings\n",
    "warnings.filterwarnings('ignore')\n",
    "\n",
    "sns.set()"
   ]
  },
  {
   "cell_type": "markdown",
   "metadata": {},
   "source": [
    "# Synthesis flow"
   ]
  },
  {
   "cell_type": "markdown",
   "metadata": {},
   "source": [
    "DIAGRAM 0 HERE: synthesize all"
   ]
  },
  {
   "cell_type": "markdown",
   "metadata": {},
   "source": [
    "## 1.1. What we are postprocessing?"
   ]
  },
  {
   "cell_type": "markdown",
   "metadata": {},
   "source": [
    "DEFINITION HERE: ESTO ES LO QUE VAMOS A ANALIZAR, PERO QUE SIGNIFICA? REPRESENTA ALGO EN PARTICULAR? COMO SE INTERPRETA ESTA TABLA?"
   ]
  },
  {
   "cell_type": "code",
   "execution_count": 2,
   "metadata": {},
   "outputs": [],
   "source": [
    "def postprocess(state, county, year, path):\n",
    "    hh = pd.read_csv(path + '/hh_{}_{}_{}.csv'.\n",
    "                     format(state, county, year), dtype={'serialno': 'str',\n",
    "                                                         'block_id': 'str',\n",
    "                                                         'state': 'str',\n",
    "                                                         'county': 'str',\n",
    "                                                         'tract': 'str',\n",
    "                                                         'block_group': 'str'})\n",
    "    hh.rename(columns={'Unnamed: 0': 'household_id'}, inplace=True)\n",
    "    hh.set_index('household_id', inplace=True)\n",
    "\n",
    "    p = pd.read_csv(path + '/p_{}_{}_{}.csv'.\n",
    "                    format(state, county, year), dtype={'serialno': 'str', })\n",
    "    p.rename(columns={'Unnamed: 0': 'person_id', 'hh_id': 'household_id'}, inplace=True)\n",
    "    p.set_index('person_id', inplace=True)\n",
    "\n",
    "    # Format persons\n",
    "    p.rename(columns={'AGEP': 'age', 'RAC1P': 'race_id', 'NP': 'persons', 'SPORDER': 'member_id',\n",
    "                          'RELP': 'relate', 'SEX': 'sex', 'WKHP': 'hours', 'SCHL': 'edu', 'PERNP': 'earning'},\n",
    "             inplace=True)\n",
    "    return hh, p"
   ]
  },
  {
   "cell_type": "code",
   "execution_count": 6,
   "metadata": {},
   "outputs": [
    {
     "name": "stdout",
     "output_type": "stream",
     "text": [
      "02_290.pdf           \u001b[0m\u001b[01;32mhh_02_195_2013.csv\u001b[0m*  \u001b[01;32mp_02_110_2013.csv\u001b[0m*\r\n",
      "\u001b[01;32mhh_02_013_2013.csv\u001b[0m*  \u001b[01;32mhh_02_198_2013.csv\u001b[0m*  \u001b[01;32mp_02_122_2013.csv\u001b[0m*\r\n",
      "\u001b[01;32mhh_02_016_2013.csv\u001b[0m*  \u001b[01;32mhh_02_220_2013.csv\u001b[0m*  \u001b[01;32mp_02_130_2013.csv\u001b[0m*\r\n",
      "\u001b[01;32mhh_02_020_2013.csv\u001b[0m*  \u001b[01;32mhh_02_230_2013.csv\u001b[0m*  \u001b[01;32mp_02_150_2013.csv\u001b[0m*\r\n",
      "\u001b[01;32mhh_02_050_2013.csv\u001b[0m*  \u001b[01;32mhh_02_240_2013.csv\u001b[0m*  \u001b[01;32mp_02_164_2013.csv\u001b[0m*\r\n",
      "\u001b[01;32mhh_02_060_2013.csv\u001b[0m*  \u001b[01;32mhh_02_261_2013.csv\u001b[0m*  \u001b[01;32mp_02_170_2013.csv\u001b[0m*\r\n",
      "\u001b[01;32mhh_02_068_2013.csv\u001b[0m*  \u001b[01;32mhh_02_270_2013.csv\u001b[0m*  \u001b[01;32mp_02_180_2013.csv\u001b[0m*\r\n",
      "\u001b[01;32mhh_02_070_2013.csv\u001b[0m*  \u001b[01;32mhh_02_275_2013.csv\u001b[0m*  \u001b[01;32mp_02_185_2013.csv\u001b[0m*\r\n",
      "\u001b[01;32mhh_02_090_2013.csv\u001b[0m*  \u001b[01;32mhh_02_282_2013.csv\u001b[0m*  \u001b[01;32mp_02_188_2013.csv\u001b[0m*\r\n",
      "\u001b[01;32mhh_02_100_2013.csv\u001b[0m*  \u001b[01;32mhh_02_290_2013.csv\u001b[0m*  \u001b[01;32mp_02_195_2013.csv\u001b[0m*\r\n",
      "\u001b[01;32mhh_02_105_2013.csv\u001b[0m*  \u001b[01;32mp_02_013_2013.csv\u001b[0m*   \u001b[01;32mp_02_198_2013.csv\u001b[0m*\r\n",
      "\u001b[01;32mhh_02_110_2013.csv\u001b[0m*  \u001b[01;32mp_02_016_2013.csv\u001b[0m*   \u001b[01;32mp_02_220_2013.csv\u001b[0m*\r\n",
      "\u001b[01;32mhh_02_122_2013.csv\u001b[0m*  \u001b[01;32mp_02_020_2013.csv\u001b[0m*   \u001b[01;32mp_02_230_2013.csv\u001b[0m*\r\n",
      "\u001b[01;32mhh_02_130_2013.csv\u001b[0m*  \u001b[01;32mp_02_050_2013.csv\u001b[0m*   \u001b[01;32mp_02_240_2013.csv\u001b[0m*\r\n",
      "\u001b[01;32mhh_02_150_2013.csv\u001b[0m*  \u001b[01;32mp_02_060_2013.csv\u001b[0m*   \u001b[01;32mp_02_261_2013.csv\u001b[0m*\r\n",
      "\u001b[01;32mhh_02_164_2013.csv\u001b[0m*  \u001b[01;32mp_02_068_2013.csv\u001b[0m*   \u001b[01;32mp_02_270_2013.csv\u001b[0m*\r\n",
      "\u001b[01;32mhh_02_170_2013.csv\u001b[0m*  \u001b[01;32mp_02_070_2013.csv\u001b[0m*   \u001b[01;32mp_02_275_2013.csv\u001b[0m*\r\n",
      "\u001b[01;32mhh_02_180_2013.csv\u001b[0m*  \u001b[01;32mp_02_090_2013.csv\u001b[0m*   \u001b[01;32mp_02_282_2013.csv\u001b[0m*\r\n",
      "\u001b[01;32mhh_02_185_2013.csv\u001b[0m*  \u001b[01;32mp_02_100_2013.csv\u001b[0m*   \u001b[01;32mp_02_290_2013.csv\u001b[0m*\r\n",
      "\u001b[01;32mhh_02_188_2013.csv\u001b[0m*  \u001b[01;32mp_02_105_2013.csv\u001b[0m*\r\n"
     ]
    }
   ],
   "source": [
    "# Here we have a list of synthesized counties for hh and p from the 02 (AK) state\n",
    "ls 02/"
   ]
  },
  {
   "cell_type": "code",
   "execution_count": 8,
   "metadata": {},
   "outputs": [],
   "source": [
    "# These files looks like...\n",
    "hh, p = postprocess('02', '013', 2013, '02/')"
   ]
  },
  {
   "cell_type": "code",
   "execution_count": 11,
   "metadata": {},
   "outputs": [
    {
     "data": {
      "text/html": [
       "<div>\n",
       "<style scoped>\n",
       "    .dataframe tbody tr th:only-of-type {\n",
       "        vertical-align: middle;\n",
       "    }\n",
       "\n",
       "    .dataframe tbody tr th {\n",
       "        vertical-align: top;\n",
       "    }\n",
       "\n",
       "    .dataframe thead th {\n",
       "        text-align: right;\n",
       "    }\n",
       "</style>\n",
       "<table border=\"1\" class=\"dataframe\">\n",
       "  <thead>\n",
       "    <tr style=\"text-align: right;\">\n",
       "      <th></th>\n",
       "      <th>serialno</th>\n",
       "      <th>RT</th>\n",
       "      <th>puma00</th>\n",
       "      <th>puma10</th>\n",
       "      <th>NP</th>\n",
       "      <th>TYPE</th>\n",
       "      <th>BLD</th>\n",
       "      <th>TEN</th>\n",
       "      <th>VEH</th>\n",
       "      <th>HINCP</th>\n",
       "      <th>...</th>\n",
       "      <th>hh_size</th>\n",
       "      <th>hh_workers</th>\n",
       "      <th>seniors</th>\n",
       "      <th>sf_detached</th>\n",
       "      <th>tenure_mover</th>\n",
       "      <th>cat_id</th>\n",
       "      <th>state</th>\n",
       "      <th>county</th>\n",
       "      <th>tract</th>\n",
       "      <th>block group</th>\n",
       "    </tr>\n",
       "    <tr>\n",
       "      <th>household_id</th>\n",
       "      <th></th>\n",
       "      <th></th>\n",
       "      <th></th>\n",
       "      <th></th>\n",
       "      <th></th>\n",
       "      <th></th>\n",
       "      <th></th>\n",
       "      <th></th>\n",
       "      <th></th>\n",
       "      <th></th>\n",
       "      <th></th>\n",
       "      <th></th>\n",
       "      <th></th>\n",
       "      <th></th>\n",
       "      <th></th>\n",
       "      <th></th>\n",
       "      <th></th>\n",
       "      <th></th>\n",
       "      <th></th>\n",
       "      <th></th>\n",
       "      <th></th>\n",
       "    </tr>\n",
       "  </thead>\n",
       "  <tbody>\n",
       "    <tr>\n",
       "      <th>0</th>\n",
       "      <td>2012000184237</td>\n",
       "      <td>H</td>\n",
       "      <td>-9</td>\n",
       "      <td>400</td>\n",
       "      <td>1</td>\n",
       "      <td>1</td>\n",
       "      <td>2.0</td>\n",
       "      <td>4.0</td>\n",
       "      <td>1.0</td>\n",
       "      <td>32500.0</td>\n",
       "      <td>...</td>\n",
       "      <td>one</td>\n",
       "      <td>one</td>\n",
       "      <td>no</td>\n",
       "      <td>yes</td>\n",
       "      <td>rent not recent</td>\n",
       "      <td>19334</td>\n",
       "      <td>02</td>\n",
       "      <td>013</td>\n",
       "      <td>000100</td>\n",
       "      <td>1</td>\n",
       "    </tr>\n",
       "    <tr>\n",
       "      <th>1</th>\n",
       "      <td>2012000184237</td>\n",
       "      <td>H</td>\n",
       "      <td>-9</td>\n",
       "      <td>400</td>\n",
       "      <td>1</td>\n",
       "      <td>1</td>\n",
       "      <td>2.0</td>\n",
       "      <td>4.0</td>\n",
       "      <td>1.0</td>\n",
       "      <td>32500.0</td>\n",
       "      <td>...</td>\n",
       "      <td>one</td>\n",
       "      <td>one</td>\n",
       "      <td>no</td>\n",
       "      <td>yes</td>\n",
       "      <td>rent not recent</td>\n",
       "      <td>19334</td>\n",
       "      <td>02</td>\n",
       "      <td>013</td>\n",
       "      <td>000100</td>\n",
       "      <td>1</td>\n",
       "    </tr>\n",
       "    <tr>\n",
       "      <th>2</th>\n",
       "      <td>2013000404401</td>\n",
       "      <td>H</td>\n",
       "      <td>-9</td>\n",
       "      <td>400</td>\n",
       "      <td>1</td>\n",
       "      <td>1</td>\n",
       "      <td>2.0</td>\n",
       "      <td>3.0</td>\n",
       "      <td>2.0</td>\n",
       "      <td>33000.0</td>\n",
       "      <td>...</td>\n",
       "      <td>one</td>\n",
       "      <td>one</td>\n",
       "      <td>no</td>\n",
       "      <td>yes</td>\n",
       "      <td>rent not recent</td>\n",
       "      <td>34694</td>\n",
       "      <td>02</td>\n",
       "      <td>013</td>\n",
       "      <td>000100</td>\n",
       "      <td>1</td>\n",
       "    </tr>\n",
       "  </tbody>\n",
       "</table>\n",
       "<p>3 rows × 32 columns</p>\n",
       "</div>"
      ],
      "text/plain": [
       "                   serialno RT  puma00  puma10  NP  TYPE  BLD  TEN  VEH  \\\n",
       "household_id                                                              \n",
       "0             2012000184237  H      -9     400   1     1  2.0  4.0  1.0   \n",
       "1             2012000184237  H      -9     400   1     1  2.0  4.0  1.0   \n",
       "2             2013000404401  H      -9     400   1     1  2.0  3.0  2.0   \n",
       "\n",
       "                HINCP  ...  hh_size  hh_workers  seniors  sf_detached  \\\n",
       "household_id           ...                                              \n",
       "0             32500.0  ...      one         one       no          yes   \n",
       "1             32500.0  ...      one         one       no          yes   \n",
       "2             33000.0  ...      one         one       no          yes   \n",
       "\n",
       "                 tenure_mover  cat_id  state county   tract block group  \n",
       "household_id                                                             \n",
       "0             rent not recent   19334     02    013  000100           1  \n",
       "1             rent not recent   19334     02    013  000100           1  \n",
       "2             rent not recent   34694     02    013  000100           1  \n",
       "\n",
       "[3 rows x 32 columns]"
      ]
     },
     "execution_count": 11,
     "metadata": {},
     "output_type": "execute_result"
    }
   ],
   "source": [
    "hh.head(3)"
   ]
  },
  {
   "cell_type": "code",
   "execution_count": 12,
   "metadata": {},
   "outputs": [
    {
     "data": {
      "text/html": [
       "<div>\n",
       "<style scoped>\n",
       "    .dataframe tbody tr th:only-of-type {\n",
       "        vertical-align: middle;\n",
       "    }\n",
       "\n",
       "    .dataframe tbody tr th {\n",
       "        vertical-align: top;\n",
       "    }\n",
       "\n",
       "    .dataframe thead th {\n",
       "        text-align: right;\n",
       "    }\n",
       "</style>\n",
       "<table border=\"1\" class=\"dataframe\">\n",
       "  <thead>\n",
       "    <tr style=\"text-align: right;\">\n",
       "      <th></th>\n",
       "      <th>serialno</th>\n",
       "      <th>member_id</th>\n",
       "      <th>puma00</th>\n",
       "      <th>puma10</th>\n",
       "      <th>age</th>\n",
       "      <th>JWTR</th>\n",
       "      <th>relate</th>\n",
       "      <th>SCH</th>\n",
       "      <th>edu</th>\n",
       "      <th>sex</th>\n",
       "      <th>...</th>\n",
       "      <th>ESR</th>\n",
       "      <th>HISP</th>\n",
       "      <th>earning</th>\n",
       "      <th>race_id</th>\n",
       "      <th>hispanic</th>\n",
       "      <th>person_age</th>\n",
       "      <th>person_sex</th>\n",
       "      <th>race</th>\n",
       "      <th>cat_id</th>\n",
       "      <th>household_id</th>\n",
       "    </tr>\n",
       "    <tr>\n",
       "      <th>person_id</th>\n",
       "      <th></th>\n",
       "      <th></th>\n",
       "      <th></th>\n",
       "      <th></th>\n",
       "      <th></th>\n",
       "      <th></th>\n",
       "      <th></th>\n",
       "      <th></th>\n",
       "      <th></th>\n",
       "      <th></th>\n",
       "      <th></th>\n",
       "      <th></th>\n",
       "      <th></th>\n",
       "      <th></th>\n",
       "      <th></th>\n",
       "      <th></th>\n",
       "      <th></th>\n",
       "      <th></th>\n",
       "      <th></th>\n",
       "      <th></th>\n",
       "      <th></th>\n",
       "    </tr>\n",
       "  </thead>\n",
       "  <tbody>\n",
       "    <tr>\n",
       "      <th>0</th>\n",
       "      <td>2012000184237</td>\n",
       "      <td>1</td>\n",
       "      <td>-9</td>\n",
       "      <td>400</td>\n",
       "      <td>43</td>\n",
       "      <td>12.0</td>\n",
       "      <td>0</td>\n",
       "      <td>1.0</td>\n",
       "      <td>16.0</td>\n",
       "      <td>1</td>\n",
       "      <td>...</td>\n",
       "      <td>1.0</td>\n",
       "      <td>1</td>\n",
       "      <td>31000.0</td>\n",
       "      <td>4</td>\n",
       "      <td>no</td>\n",
       "      <td>35 to 60</td>\n",
       "      <td>male</td>\n",
       "      <td>other</td>\n",
       "      <td>138262</td>\n",
       "      <td>0</td>\n",
       "    </tr>\n",
       "    <tr>\n",
       "      <th>1</th>\n",
       "      <td>2012000184237</td>\n",
       "      <td>1</td>\n",
       "      <td>-9</td>\n",
       "      <td>400</td>\n",
       "      <td>43</td>\n",
       "      <td>12.0</td>\n",
       "      <td>0</td>\n",
       "      <td>1.0</td>\n",
       "      <td>16.0</td>\n",
       "      <td>1</td>\n",
       "      <td>...</td>\n",
       "      <td>1.0</td>\n",
       "      <td>1</td>\n",
       "      <td>31000.0</td>\n",
       "      <td>4</td>\n",
       "      <td>no</td>\n",
       "      <td>35 to 60</td>\n",
       "      <td>male</td>\n",
       "      <td>other</td>\n",
       "      <td>138262</td>\n",
       "      <td>1</td>\n",
       "    </tr>\n",
       "    <tr>\n",
       "      <th>2</th>\n",
       "      <td>2012000200475</td>\n",
       "      <td>1</td>\n",
       "      <td>-9</td>\n",
       "      <td>400</td>\n",
       "      <td>39</td>\n",
       "      <td>1.0</td>\n",
       "      <td>0</td>\n",
       "      <td>1.0</td>\n",
       "      <td>19.0</td>\n",
       "      <td>1</td>\n",
       "      <td>...</td>\n",
       "      <td>1.0</td>\n",
       "      <td>1</td>\n",
       "      <td>43300.0</td>\n",
       "      <td>9</td>\n",
       "      <td>no</td>\n",
       "      <td>35 to 60</td>\n",
       "      <td>male</td>\n",
       "      <td>other</td>\n",
       "      <td>138262</td>\n",
       "      <td>8</td>\n",
       "    </tr>\n",
       "  </tbody>\n",
       "</table>\n",
       "<p>3 rows × 21 columns</p>\n",
       "</div>"
      ],
      "text/plain": [
       "                serialno  member_id  puma00  puma10  age  JWTR  relate  SCH  \\\n",
       "person_id                                                                     \n",
       "0          2012000184237          1      -9     400   43  12.0       0  1.0   \n",
       "1          2012000184237          1      -9     400   43  12.0       0  1.0   \n",
       "2          2012000200475          1      -9     400   39   1.0       0  1.0   \n",
       "\n",
       "            edu  sex  ...  ESR  HISP  earning  race_id  hispanic person_age  \\\n",
       "person_id             ...                                                     \n",
       "0          16.0    1  ...  1.0     1  31000.0        4        no   35 to 60   \n",
       "1          16.0    1  ...  1.0     1  31000.0        4        no   35 to 60   \n",
       "2          19.0    1  ...  1.0     1  43300.0        9        no   35 to 60   \n",
       "\n",
       "          person_sex   race  cat_id  household_id  \n",
       "person_id                                          \n",
       "0               male  other  138262             0  \n",
       "1               male  other  138262             1  \n",
       "2               male  other  138262             8  \n",
       "\n",
       "[3 rows x 21 columns]"
      ]
     },
     "execution_count": 12,
     "metadata": {},
     "output_type": "execute_result"
    }
   ],
   "source": [
    "p.head(3)"
   ]
  },
  {
   "cell_type": "markdown",
   "metadata": {},
   "source": [
    "## 1.2. What does these tables represent? "
   ]
  },
  {
   "cell_type": "markdown",
   "metadata": {},
   "source": [
    "## Starter "
   ]
  },
  {
   "cell_type": "markdown",
   "metadata": {},
   "source": [
    "DIAGRAM HERE: how Starter is instantiated"
   ]
  },
  {
   "cell_type": "markdown",
   "metadata": {},
   "source": [
    "### Getting `marginals` and `joint distributions` for households and persons "
   ]
  },
  {
   "cell_type": "markdown",
   "metadata": {},
   "source": [
    "### 1. The `acs5` subject table "
   ]
  },
  {
   "cell_type": "code",
   "execution_count": 25,
   "metadata": {},
   "outputs": [],
   "source": [
    "# census api key\n",
    "key = os.environ['CENSUS']\n",
    "\n",
    "# AK state\n",
    "state = '02'\n",
    "\n",
    "# 290 county (Yukon-Koyukuk)\n",
    "county = '290'"
   ]
  },
  {
   "cell_type": "code",
   "execution_count": 26,
   "metadata": {},
   "outputs": [],
   "source": [
    "# creates starter object\n",
    "starter = Starter(key, state, county, acsyear=2013)"
   ]
  },
  {
   "cell_type": "code",
   "execution_count": 28,
   "metadata": {},
   "outputs": [
    {
     "name": "stdout",
     "output_type": "stream",
     "text": [
      "['acsyear', 'c', 'county', 'get_available_geography_ids', 'get_geography_name', 'get_household_joint_dist_for_geography', 'get_household_marginal_for_geography', 'get_num_geographies', 'get_person_joint_dist_for_geography', 'get_person_marginal_for_geography', 'h_acs', 'h_acs_cat', 'h_pums_cols', 'p_acs', 'p_acs_cat', 'p_pums_cols', 'state', 'tract']\n"
     ]
    }
   ],
   "source": [
    "# what do we get from starter class?\n",
    "print([m for m in dir(starter) if not m.startswith('__')])"
   ]
  },
  {
   "cell_type": "markdown",
   "metadata": {},
   "source": [
    "This contains a bunch of methods and variables for a synthesized:"
   ]
  },
  {
   "cell_type": "code",
   "execution_count": 31,
   "metadata": {},
   "outputs": [
    {
     "data": {
      "text/plain": [
       "('02', '290')"
      ]
     },
     "execution_count": 31,
     "metadata": {},
     "output_type": "execute_result"
    }
   ],
   "source": [
    "# ...state and county pair\n",
    "starter.state, starter.county"
   ]
  },
  {
   "cell_type": "markdown",
   "metadata": {},
   "source": [
    "##### 1. 1. The `Census` object and his methods "
   ]
  },
  {
   "cell_type": "markdown",
   "metadata": {},
   "source": [
    "    A. Tract and Block group acs subject tables\n",
    "\n",
    "       DIAGRAM 1 HERE"
   ]
  },
  {
   "cell_type": "markdown",
   "metadata": {},
   "source": [
    "As it is shown in the diagram, a first step that occurs when we create the `starter` object is that methods from `Census` constructor are also instantiated. This gives us back some relevant information. First, the `acs` 5 years [estimates tables](https://www.census.gov/data/developers/data-sets/acs-5year.html) by different geographies:"
   ]
  },
  {
   "cell_type": "code",
   "execution_count": 34,
   "metadata": {},
   "outputs": [
    {
     "data": {
      "text/html": [
       "<div>\n",
       "<style scoped>\n",
       "    .dataframe tbody tr th:only-of-type {\n",
       "        vertical-align: middle;\n",
       "    }\n",
       "\n",
       "    .dataframe tbody tr th {\n",
       "        vertical-align: top;\n",
       "    }\n",
       "\n",
       "    .dataframe thead th {\n",
       "        text-align: right;\n",
       "    }\n",
       "</style>\n",
       "<table border=\"1\" class=\"dataframe\">\n",
       "  <thead>\n",
       "    <tr style=\"text-align: right;\">\n",
       "      <th></th>\n",
       "      <th>NAME</th>\n",
       "      <th>B19001_001E</th>\n",
       "      <th>B19001_002E</th>\n",
       "      <th>B19001_003E</th>\n",
       "      <th>B19001_004E</th>\n",
       "      <th>B19001_005E</th>\n",
       "      <th>B19001_006E</th>\n",
       "      <th>B19001_007E</th>\n",
       "      <th>B19001_008E</th>\n",
       "      <th>B19001_009E</th>\n",
       "      <th>...</th>\n",
       "      <th>B08201_002E</th>\n",
       "      <th>B08201_003E</th>\n",
       "      <th>B08201_004E</th>\n",
       "      <th>B08201_005E</th>\n",
       "      <th>B08201_006E</th>\n",
       "      <th>B08202_001E</th>\n",
       "      <th>B08202_002E</th>\n",
       "      <th>B08202_003E</th>\n",
       "      <th>B08202_004E</th>\n",
       "      <th>B08202_005E</th>\n",
       "    </tr>\n",
       "  </thead>\n",
       "  <tbody>\n",
       "    <tr>\n",
       "      <th>0</th>\n",
       "      <td>Block Group 1, Census Tract 1, Yukon-Koyukuk C...</td>\n",
       "      <td>187</td>\n",
       "      <td>52</td>\n",
       "      <td>13</td>\n",
       "      <td>20</td>\n",
       "      <td>11</td>\n",
       "      <td>20</td>\n",
       "      <td>12</td>\n",
       "      <td>1</td>\n",
       "      <td>18</td>\n",
       "      <td>...</td>\n",
       "      <td>119</td>\n",
       "      <td>40</td>\n",
       "      <td>16</td>\n",
       "      <td>3</td>\n",
       "      <td>7</td>\n",
       "      <td>187</td>\n",
       "      <td>89</td>\n",
       "      <td>74</td>\n",
       "      <td>21</td>\n",
       "      <td>2</td>\n",
       "    </tr>\n",
       "    <tr>\n",
       "      <th>1</th>\n",
       "      <td>Block Group 2, Census Tract 1, Yukon-Koyukuk C...</td>\n",
       "      <td>336</td>\n",
       "      <td>68</td>\n",
       "      <td>19</td>\n",
       "      <td>42</td>\n",
       "      <td>20</td>\n",
       "      <td>11</td>\n",
       "      <td>27</td>\n",
       "      <td>8</td>\n",
       "      <td>9</td>\n",
       "      <td>...</td>\n",
       "      <td>214</td>\n",
       "      <td>71</td>\n",
       "      <td>30</td>\n",
       "      <td>5</td>\n",
       "      <td>13</td>\n",
       "      <td>336</td>\n",
       "      <td>160</td>\n",
       "      <td>133</td>\n",
       "      <td>37</td>\n",
       "      <td>3</td>\n",
       "    </tr>\n",
       "  </tbody>\n",
       "</table>\n",
       "<p>2 rows × 127 columns</p>\n",
       "</div>"
      ],
      "text/plain": [
       "                                                NAME  B19001_001E  \\\n",
       "0  Block Group 1, Census Tract 1, Yukon-Koyukuk C...          187   \n",
       "1  Block Group 2, Census Tract 1, Yukon-Koyukuk C...          336   \n",
       "\n",
       "   B19001_002E  B19001_003E  B19001_004E  B19001_005E  B19001_006E  \\\n",
       "0           52           13           20           11           20   \n",
       "1           68           19           42           20           11   \n",
       "\n",
       "   B19001_007E  B19001_008E  B19001_009E  ...  B08201_002E  B08201_003E  \\\n",
       "0           12            1           18  ...          119           40   \n",
       "1           27            8            9  ...          214           71   \n",
       "\n",
       "   B08201_004E  B08201_005E  B08201_006E  B08202_001E  B08202_002E  \\\n",
       "0           16            3            7          187           89   \n",
       "1           30            5           13          336          160   \n",
       "\n",
       "   B08202_003E  B08202_004E  B08202_005E  \n",
       "0           74           21            2  \n",
       "1          133           37            3  \n",
       "\n",
       "[2 rows x 127 columns]"
      ]
     },
     "execution_count": 34,
     "metadata": {},
     "output_type": "execute_result"
    }
   ],
   "source": [
    "starter.h_acs.head(2)"
   ]
  },
  {
   "cell_type": "code",
   "execution_count": 105,
   "metadata": {},
   "outputs": [],
   "source": [
    "# when we instantiate the Starter class to create starter object we are also creating a census object\n",
    "c = Census(key, acsyear=2013)"
   ]
  },
  {
   "cell_type": "code",
   "execution_count": 104,
   "metadata": {},
   "outputs": [
    {
     "data": {
      "text/plain": [
       "<synthpop.census_helpers.Census at 0x7fc1c67647f0>"
      ]
     },
     "execution_count": 104,
     "metadata": {},
     "output_type": "execute_result"
    }
   ],
   "source": [
    "starter.c "
   ]
  },
  {
   "cell_type": "code",
   "execution_count": 49,
   "metadata": {},
   "outputs": [
    {
     "data": {
      "text/plain": [
       "<synthpop.census_helpers.Census at 0x7fc1c6bc1438>"
      ]
     },
     "execution_count": 49,
     "metadata": {},
     "output_type": "execute_result"
    }
   ],
   "source": [
    "c"
   ]
  },
  {
   "cell_type": "code",
   "execution_count": 47,
   "metadata": {},
   "outputs": [
    {
     "name": "stdout",
     "output_type": "stream",
     "text": [
      "['_get_fips_lookup', '_get_pums_relationship', '_query', '_read_csv', '_scale_and_merge', 'acsyear_files', 'base_url', 'block_group_and_tract_query', 'block_group_query', 'c', 'download_household_pums', 'download_population_pums', 'fips_df', 'fips_url', 'pums00_household_base_url', 'pums00_population_base_url', 'pums10_household_base_url', 'pums10_population_base_url', 'pums_cache', 'pums_household_state_base_url', 'pums_population_state_base_url', 'pums_relationship_df', 'pums_relationship_file_url', 'tract_query', 'tract_to_puma', 'try_fips_lookup']\n"
     ]
    }
   ],
   "source": [
    "# that has his own methods \n",
    "print([ m for m in dir(c) if not m.startswith('__')])"
   ]
  },
  {
   "cell_type": "markdown",
   "metadata": {},
   "source": [
    "##### 1. 2. Articulating `Census` and  `Starter` methods\n",
    "\n",
    "As we said, a first thing that takes place when creating `starter` is the generation of `block groups` and `tracts` tables for a [group of variables](https://github.com/UDST/synthpop/blob/0bc36f8fef036913b416e0d4eb8a3fda79fc70ad/synthpop/recipes/starter2.py#L52-L68)"
   ]
  },
  {
   "cell_type": "code",
   "execution_count": 106,
   "metadata": {},
   "outputs": [
    {
     "data": {
      "text/plain": [
       "<bound method Census.block_group_and_tract_query of <synthpop.census_helpers.Census object at 0x7fc1ae2573c8>>"
      ]
     },
     "execution_count": 106,
     "metadata": {},
     "output_type": "execute_result"
    }
   ],
   "source": [
    "# we create and merge both tables with:\n",
    "c.block_group_and_tract_query"
   ]
  },
  {
   "cell_type": "markdown",
   "metadata": {},
   "source": [
    "In the above diagram it is shown that, inside the `Starter` class some methods from census object `c` are called. But something else to be pointed out here is that, this last one `c` is also calling other methods from `census` module. \n",
    "\n",
    "We are interested in the `acs5` method - which is inside the core.py module imported from `import census` module -. Let's check it:"
   ]
  },
  {
   "cell_type": "code",
   "execution_count": 43,
   "metadata": {},
   "outputs": [
    {
     "name": "stdout",
     "output_type": "stream",
     "text": [
      "['ALL', '_acs', 'acs', 'acs1', 'acs1dp', 'acs3', 'acs3dp', 'acs5', 'acs5dp', 'session', 'sf1', 'sf3']\n"
     ]
    }
   ],
   "source": [
    "# imported methods from census module\n",
    "print([ m for m in dir(c.c) if not m.startswith('__')])"
   ]
  },
  {
   "cell_type": "markdown",
   "metadata": {},
   "source": [
    "Now, we will define some arbitrary variables at block group and tract levels to consume `acs5` subject tables"
   ]
  },
  {
   "cell_type": "code",
   "execution_count": 107,
   "metadata": {},
   "outputs": [],
   "source": [
    "# block group\n",
    "presence_of_children_columns = ['B11005_001E', 'B11005_002E', 'B11005_011E']\n",
    "block_group_size_attr=['B11005_001E'] # this is the total within the block group\n",
    "\n",
    "# census tract\n",
    "vehicle_columns = ['B08201_0%02dE' % i for i in range(1, 7)]\n",
    "tract_size_attr=['B08201_001E'] # this is the total within the tract"
   ]
  },
  {
   "cell_type": "code",
   "execution_count": 99,
   "metadata": {},
   "outputs": [],
   "source": [
    "tr = c.c.acs5.get(['NAME'] + presence_of_children_columns,\n",
    "                 geo={'for': \"tract:*\",\n",
    "                      'in': 'state: 02 county: 290'}, year=2013)"
   ]
  },
  {
   "cell_type": "code",
   "execution_count": 100,
   "metadata": {},
   "outputs": [
    {
     "data": {
      "text/html": [
       "<div>\n",
       "<style scoped>\n",
       "    .dataframe tbody tr th:only-of-type {\n",
       "        vertical-align: middle;\n",
       "    }\n",
       "\n",
       "    .dataframe tbody tr th {\n",
       "        vertical-align: top;\n",
       "    }\n",
       "\n",
       "    .dataframe thead th {\n",
       "        text-align: right;\n",
       "    }\n",
       "</style>\n",
       "<table border=\"1\" class=\"dataframe\">\n",
       "  <thead>\n",
       "    <tr style=\"text-align: right;\">\n",
       "      <th></th>\n",
       "      <th>NAME</th>\n",
       "      <th>B11005_001E</th>\n",
       "      <th>B11005_002E</th>\n",
       "      <th>B11005_011E</th>\n",
       "      <th>state</th>\n",
       "      <th>county</th>\n",
       "      <th>tract</th>\n",
       "    </tr>\n",
       "  </thead>\n",
       "  <tbody>\n",
       "    <tr>\n",
       "      <th>0</th>\n",
       "      <td>Census Tract 1, Yukon-Koyukuk Census Area, Alaska</td>\n",
       "      <td>523.0</td>\n",
       "      <td>140.0</td>\n",
       "      <td>383.0</td>\n",
       "      <td>02</td>\n",
       "      <td>290</td>\n",
       "      <td>000100</td>\n",
       "    </tr>\n",
       "    <tr>\n",
       "      <th>1</th>\n",
       "      <td>Census Tract 2, Yukon-Koyukuk Census Area, Alaska</td>\n",
       "      <td>549.0</td>\n",
       "      <td>155.0</td>\n",
       "      <td>394.0</td>\n",
       "      <td>02</td>\n",
       "      <td>290</td>\n",
       "      <td>000200</td>\n",
       "    </tr>\n",
       "    <tr>\n",
       "      <th>2</th>\n",
       "      <td>Census Tract 3, Yukon-Koyukuk Census Area, Alaska</td>\n",
       "      <td>612.0</td>\n",
       "      <td>251.0</td>\n",
       "      <td>361.0</td>\n",
       "      <td>02</td>\n",
       "      <td>290</td>\n",
       "      <td>000300</td>\n",
       "    </tr>\n",
       "    <tr>\n",
       "      <th>3</th>\n",
       "      <td>Census Tract 4, Yukon-Koyukuk Census Area, Alaska</td>\n",
       "      <td>372.0</td>\n",
       "      <td>151.0</td>\n",
       "      <td>221.0</td>\n",
       "      <td>02</td>\n",
       "      <td>290</td>\n",
       "      <td>000400</td>\n",
       "    </tr>\n",
       "  </tbody>\n",
       "</table>\n",
       "</div>"
      ],
      "text/plain": [
       "                                                NAME  B11005_001E  \\\n",
       "0  Census Tract 1, Yukon-Koyukuk Census Area, Alaska        523.0   \n",
       "1  Census Tract 2, Yukon-Koyukuk Census Area, Alaska        549.0   \n",
       "2  Census Tract 3, Yukon-Koyukuk Census Area, Alaska        612.0   \n",
       "3  Census Tract 4, Yukon-Koyukuk Census Area, Alaska        372.0   \n",
       "\n",
       "   B11005_002E  B11005_011E state county   tract  \n",
       "0        140.0        383.0    02    290  000100  \n",
       "1        155.0        394.0    02    290  000200  \n",
       "2        251.0        361.0    02    290  000300  \n",
       "3        151.0        221.0    02    290  000400  "
      ]
     },
     "execution_count": 100,
     "metadata": {},
     "output_type": "execute_result"
    }
   ],
   "source": [
    "pd.DataFrame(tr)"
   ]
  },
  {
   "cell_type": "code",
   "execution_count": 76,
   "metadata": {},
   "outputs": [],
   "source": [
    "bg = c.c.acs5.get(['NAME'] + presence_of_children_columns,\n",
    "                  geo={'for': \"block group:*\",\n",
    "                       'in': 'state: 02 county: 290'}, year=2013)"
   ]
  },
  {
   "cell_type": "code",
   "execution_count": 82,
   "metadata": {},
   "outputs": [
    {
     "data": {
      "text/html": [
       "<div>\n",
       "<style scoped>\n",
       "    .dataframe tbody tr th:only-of-type {\n",
       "        vertical-align: middle;\n",
       "    }\n",
       "\n",
       "    .dataframe tbody tr th {\n",
       "        vertical-align: top;\n",
       "    }\n",
       "\n",
       "    .dataframe thead th {\n",
       "        text-align: right;\n",
       "    }\n",
       "</style>\n",
       "<table border=\"1\" class=\"dataframe\">\n",
       "  <thead>\n",
       "    <tr style=\"text-align: right;\">\n",
       "      <th></th>\n",
       "      <th>NAME</th>\n",
       "      <th>B11005_001E</th>\n",
       "      <th>B11005_002E</th>\n",
       "      <th>B11005_011E</th>\n",
       "      <th>state</th>\n",
       "      <th>county</th>\n",
       "      <th>tract</th>\n",
       "      <th>block group</th>\n",
       "    </tr>\n",
       "  </thead>\n",
       "  <tbody>\n",
       "    <tr>\n",
       "      <th>0</th>\n",
       "      <td>Block Group 1, Census Tract 1, Yukon-Koyukuk C...</td>\n",
       "      <td>187.0</td>\n",
       "      <td>58.0</td>\n",
       "      <td>129.0</td>\n",
       "      <td>02</td>\n",
       "      <td>290</td>\n",
       "      <td>000100</td>\n",
       "      <td>1</td>\n",
       "    </tr>\n",
       "    <tr>\n",
       "      <th>1</th>\n",
       "      <td>Block Group 2, Census Tract 1, Yukon-Koyukuk C...</td>\n",
       "      <td>336.0</td>\n",
       "      <td>82.0</td>\n",
       "      <td>254.0</td>\n",
       "      <td>02</td>\n",
       "      <td>290</td>\n",
       "      <td>000100</td>\n",
       "      <td>2</td>\n",
       "    </tr>\n",
       "    <tr>\n",
       "      <th>2</th>\n",
       "      <td>Block Group 1, Census Tract 2, Yukon-Koyukuk C...</td>\n",
       "      <td>208.0</td>\n",
       "      <td>57.0</td>\n",
       "      <td>151.0</td>\n",
       "      <td>02</td>\n",
       "      <td>290</td>\n",
       "      <td>000200</td>\n",
       "      <td>1</td>\n",
       "    </tr>\n",
       "    <tr>\n",
       "      <th>3</th>\n",
       "      <td>Block Group 2, Census Tract 2, Yukon-Koyukuk C...</td>\n",
       "      <td>341.0</td>\n",
       "      <td>98.0</td>\n",
       "      <td>243.0</td>\n",
       "      <td>02</td>\n",
       "      <td>290</td>\n",
       "      <td>000200</td>\n",
       "      <td>2</td>\n",
       "    </tr>\n",
       "    <tr>\n",
       "      <th>4</th>\n",
       "      <td>Block Group 1, Census Tract 3, Yukon-Koyukuk C...</td>\n",
       "      <td>234.0</td>\n",
       "      <td>108.0</td>\n",
       "      <td>126.0</td>\n",
       "      <td>02</td>\n",
       "      <td>290</td>\n",
       "      <td>000300</td>\n",
       "      <td>1</td>\n",
       "    </tr>\n",
       "    <tr>\n",
       "      <th>5</th>\n",
       "      <td>Block Group 2, Census Tract 3, Yukon-Koyukuk C...</td>\n",
       "      <td>190.0</td>\n",
       "      <td>76.0</td>\n",
       "      <td>114.0</td>\n",
       "      <td>02</td>\n",
       "      <td>290</td>\n",
       "      <td>000300</td>\n",
       "      <td>2</td>\n",
       "    </tr>\n",
       "    <tr>\n",
       "      <th>6</th>\n",
       "      <td>Block Group 3, Census Tract 3, Yukon-Koyukuk C...</td>\n",
       "      <td>188.0</td>\n",
       "      <td>67.0</td>\n",
       "      <td>121.0</td>\n",
       "      <td>02</td>\n",
       "      <td>290</td>\n",
       "      <td>000300</td>\n",
       "      <td>3</td>\n",
       "    </tr>\n",
       "    <tr>\n",
       "      <th>7</th>\n",
       "      <td>Block Group 1, Census Tract 4, Yukon-Koyukuk C...</td>\n",
       "      <td>180.0</td>\n",
       "      <td>82.0</td>\n",
       "      <td>98.0</td>\n",
       "      <td>02</td>\n",
       "      <td>290</td>\n",
       "      <td>000400</td>\n",
       "      <td>1</td>\n",
       "    </tr>\n",
       "    <tr>\n",
       "      <th>8</th>\n",
       "      <td>Block Group 2, Census Tract 4, Yukon-Koyukuk C...</td>\n",
       "      <td>192.0</td>\n",
       "      <td>69.0</td>\n",
       "      <td>123.0</td>\n",
       "      <td>02</td>\n",
       "      <td>290</td>\n",
       "      <td>000400</td>\n",
       "      <td>2</td>\n",
       "    </tr>\n",
       "  </tbody>\n",
       "</table>\n",
       "</div>"
      ],
      "text/plain": [
       "                                                NAME  B11005_001E  \\\n",
       "0  Block Group 1, Census Tract 1, Yukon-Koyukuk C...        187.0   \n",
       "1  Block Group 2, Census Tract 1, Yukon-Koyukuk C...        336.0   \n",
       "2  Block Group 1, Census Tract 2, Yukon-Koyukuk C...        208.0   \n",
       "3  Block Group 2, Census Tract 2, Yukon-Koyukuk C...        341.0   \n",
       "4  Block Group 1, Census Tract 3, Yukon-Koyukuk C...        234.0   \n",
       "5  Block Group 2, Census Tract 3, Yukon-Koyukuk C...        190.0   \n",
       "6  Block Group 3, Census Tract 3, Yukon-Koyukuk C...        188.0   \n",
       "7  Block Group 1, Census Tract 4, Yukon-Koyukuk C...        180.0   \n",
       "8  Block Group 2, Census Tract 4, Yukon-Koyukuk C...        192.0   \n",
       "\n",
       "   B11005_002E  B11005_011E state county   tract block group  \n",
       "0         58.0        129.0    02    290  000100           1  \n",
       "1         82.0        254.0    02    290  000100           2  \n",
       "2         57.0        151.0    02    290  000200           1  \n",
       "3         98.0        243.0    02    290  000200           2  \n",
       "4        108.0        126.0    02    290  000300           1  \n",
       "5         76.0        114.0    02    290  000300           2  \n",
       "6         67.0        121.0    02    290  000300           3  \n",
       "7         82.0         98.0    02    290  000400           1  \n",
       "8         69.0        123.0    02    290  000400           2  "
      ]
     },
     "execution_count": 82,
     "metadata": {},
     "output_type": "execute_result"
    }
   ],
   "source": [
    "pd.DataFrame(bg)"
   ]
  },
  {
   "cell_type": "markdown",
   "metadata": {},
   "source": [
    "Both tables are merged at the highest disaggregation level (block group). To do it `scale and merge` Census method scales down from tract to block group level as it is shown below:"
   ]
  },
  {
   "cell_type": "code",
   "execution_count": 102,
   "metadata": {},
   "outputs": [
    {
     "data": {
      "text/html": [
       "<div>\n",
       "<style scoped>\n",
       "    .dataframe tbody tr th:only-of-type {\n",
       "        vertical-align: middle;\n",
       "    }\n",
       "\n",
       "    .dataframe tbody tr th {\n",
       "        vertical-align: top;\n",
       "    }\n",
       "\n",
       "    .dataframe thead th {\n",
       "        text-align: right;\n",
       "    }\n",
       "</style>\n",
       "<table border=\"1\" class=\"dataframe\">\n",
       "  <thead>\n",
       "    <tr style=\"text-align: right;\">\n",
       "      <th></th>\n",
       "      <th>NAME</th>\n",
       "      <th>B08201_001E</th>\n",
       "      <th>B08201_002E</th>\n",
       "      <th>B08201_003E</th>\n",
       "      <th>B08201_004E</th>\n",
       "      <th>B08201_005E</th>\n",
       "      <th>B08201_006E</th>\n",
       "    </tr>\n",
       "  </thead>\n",
       "  <tbody>\n",
       "    <tr>\n",
       "      <th>0</th>\n",
       "      <td>Block Group 1, Census Tract 1, Yukon-Koyukuk C...</td>\n",
       "      <td>187</td>\n",
       "      <td>119</td>\n",
       "      <td>40</td>\n",
       "      <td>16</td>\n",
       "      <td>3</td>\n",
       "      <td>7</td>\n",
       "    </tr>\n",
       "    <tr>\n",
       "      <th>1</th>\n",
       "      <td>Block Group 2, Census Tract 1, Yukon-Koyukuk C...</td>\n",
       "      <td>336</td>\n",
       "      <td>214</td>\n",
       "      <td>71</td>\n",
       "      <td>30</td>\n",
       "      <td>5</td>\n",
       "      <td>13</td>\n",
       "    </tr>\n",
       "    <tr>\n",
       "      <th>2</th>\n",
       "      <td>Block Group 1, Census Tract 2, Yukon-Koyukuk C...</td>\n",
       "      <td>208</td>\n",
       "      <td>51</td>\n",
       "      <td>73</td>\n",
       "      <td>50</td>\n",
       "      <td>21</td>\n",
       "      <td>11</td>\n",
       "    </tr>\n",
       "    <tr>\n",
       "      <th>3</th>\n",
       "      <td>Block Group 2, Census Tract 2, Yukon-Koyukuk C...</td>\n",
       "      <td>341</td>\n",
       "      <td>83</td>\n",
       "      <td>120</td>\n",
       "      <td>83</td>\n",
       "      <td>34</td>\n",
       "      <td>18</td>\n",
       "    </tr>\n",
       "    <tr>\n",
       "      <th>4</th>\n",
       "      <td>Block Group 1, Census Tract 3, Yukon-Koyukuk C...</td>\n",
       "      <td>234</td>\n",
       "      <td>127</td>\n",
       "      <td>58</td>\n",
       "      <td>35</td>\n",
       "      <td>8</td>\n",
       "      <td>4</td>\n",
       "    </tr>\n",
       "    <tr>\n",
       "      <th>5</th>\n",
       "      <td>Block Group 2, Census Tract 3, Yukon-Koyukuk C...</td>\n",
       "      <td>190</td>\n",
       "      <td>103</td>\n",
       "      <td>47</td>\n",
       "      <td>28</td>\n",
       "      <td>7</td>\n",
       "      <td>3</td>\n",
       "    </tr>\n",
       "    <tr>\n",
       "      <th>6</th>\n",
       "      <td>Block Group 3, Census Tract 3, Yukon-Koyukuk C...</td>\n",
       "      <td>188</td>\n",
       "      <td>102</td>\n",
       "      <td>46</td>\n",
       "      <td>28</td>\n",
       "      <td>7</td>\n",
       "      <td>3</td>\n",
       "    </tr>\n",
       "    <tr>\n",
       "      <th>7</th>\n",
       "      <td>Block Group 1, Census Tract 4, Yukon-Koyukuk C...</td>\n",
       "      <td>180</td>\n",
       "      <td>91</td>\n",
       "      <td>46</td>\n",
       "      <td>32</td>\n",
       "      <td>5</td>\n",
       "      <td>2</td>\n",
       "    </tr>\n",
       "    <tr>\n",
       "      <th>8</th>\n",
       "      <td>Block Group 2, Census Tract 4, Yukon-Koyukuk C...</td>\n",
       "      <td>192</td>\n",
       "      <td>98</td>\n",
       "      <td>50</td>\n",
       "      <td>35</td>\n",
       "      <td>5</td>\n",
       "      <td>3</td>\n",
       "    </tr>\n",
       "  </tbody>\n",
       "</table>\n",
       "</div>"
      ],
      "text/plain": [
       "                                                NAME  B08201_001E  \\\n",
       "0  Block Group 1, Census Tract 1, Yukon-Koyukuk C...          187   \n",
       "1  Block Group 2, Census Tract 1, Yukon-Koyukuk C...          336   \n",
       "2  Block Group 1, Census Tract 2, Yukon-Koyukuk C...          208   \n",
       "3  Block Group 2, Census Tract 2, Yukon-Koyukuk C...          341   \n",
       "4  Block Group 1, Census Tract 3, Yukon-Koyukuk C...          234   \n",
       "5  Block Group 2, Census Tract 3, Yukon-Koyukuk C...          190   \n",
       "6  Block Group 3, Census Tract 3, Yukon-Koyukuk C...          188   \n",
       "7  Block Group 1, Census Tract 4, Yukon-Koyukuk C...          180   \n",
       "8  Block Group 2, Census Tract 4, Yukon-Koyukuk C...          192   \n",
       "\n",
       "   B08201_002E  B08201_003E  B08201_004E  B08201_005E  B08201_006E  \n",
       "0          119           40           16            3            7  \n",
       "1          214           71           30            5           13  \n",
       "2           51           73           50           21           11  \n",
       "3           83          120           83           34           18  \n",
       "4          127           58           35            8            4  \n",
       "5          103           47           28            7            3  \n",
       "6          102           46           28            7            3  \n",
       "7           91           46           32            5            2  \n",
       "8           98           50           35            5            3  "
      ]
     },
     "execution_count": 102,
     "metadata": {},
     "output_type": "execute_result"
    }
   ],
   "source": [
    "# tract variables\n",
    "starter.h_acs[['NAME']+vehicle_columns]"
   ]
  },
  {
   "cell_type": "code",
   "execution_count": null,
   "metadata": {},
   "outputs": [],
   "source": []
  },
  {
   "cell_type": "code",
   "execution_count": null,
   "metadata": {},
   "outputs": [],
   "source": []
  },
  {
   "cell_type": "code",
   "execution_count": null,
   "metadata": {},
   "outputs": [],
   "source": []
  },
  {
   "cell_type": "code",
   "execution_count": null,
   "metadata": {},
   "outputs": [],
   "source": []
  },
  {
   "cell_type": "code",
   "execution_count": null,
   "metadata": {},
   "outputs": [],
   "source": []
  },
  {
   "cell_type": "code",
   "execution_count": null,
   "metadata": {},
   "outputs": [],
   "source": [
    "def from_fips_to_name(state, county):\n",
    "    lookup = pd.read_csv(\n",
    "            'https://s3-us-west-1.amazonaws.com/synthpop-data2/national_county.txt', dtype='str')\n",
    "    data = lookup[(lookup['State ANSI'] == state) & (lookup['County ANSI'] == county)]\n",
    "    state_name = data['State'].unique()[0]\n",
    "    county_name = data['County Name'].unique()[0]\n",
    "    return state_name, county_name"
   ]
  },
  {
   "cell_type": "code",
   "execution_count": null,
   "metadata": {},
   "outputs": [],
   "source": [
    "from_fips_to_name('02', '290')"
   ]
  },
  {
   "cell_type": "code",
   "execution_count": null,
   "metadata": {},
   "outputs": [],
   "source": [
    "def key():\n",
    "    return os.environ['CENSUS']"
   ]
  },
  {
   "cell_type": "code",
   "execution_count": null,
   "metadata": {},
   "outputs": [],
   "source": [
    "starter = Starter(key(), 'AK', 'Yukon-Koyukuk Census Area', acsyear=2013)"
   ]
  },
  {
   "cell_type": "code",
   "execution_count": null,
   "metadata": {},
   "outputs": [],
   "source": [
    "starter"
   ]
  },
  {
   "cell_type": "code",
   "execution_count": null,
   "metadata": {},
   "outputs": [],
   "source": [
    "geog = starter.c.try_fips_lookup('AK', 'Yukon-Koyukuk Census Area')\n",
    "ind = pd.Series([geog[0]], index=[\"state\"])"
   ]
  },
  {
   "cell_type": "code",
   "execution_count": null,
   "metadata": {},
   "outputs": [],
   "source": [
    "geog"
   ]
  },
  {
   "cell_type": "code",
   "execution_count": null,
   "metadata": {},
   "outputs": [],
   "source": [
    "ind"
   ]
  },
  {
   "cell_type": "code",
   "execution_count": null,
   "metadata": {},
   "outputs": [],
   "source": [
    "hh_target = starter.get_household_marginal_for_geography(ind)\n",
    "p_target = starter.get_person_marginal_for_geography(ind)"
   ]
  },
  {
   "cell_type": "code",
   "execution_count": null,
   "metadata": {},
   "outputs": [],
   "source": [
    "hh_target.columns"
   ]
  },
  {
   "cell_type": "code",
   "execution_count": null,
   "metadata": {},
   "outputs": [],
   "source": [
    "hh_target.columns.names"
   ]
  },
  {
   "cell_type": "code",
   "execution_count": null,
   "metadata": {},
   "outputs": [],
   "source": [
    "pd.set_option('display.max_rows', 500)\n",
    "pd.set_option('display.max_columns', 500)\n",
    "pd.set_option('display.width', 1000)"
   ]
  },
  {
   "cell_type": "code",
   "execution_count": null,
   "metadata": {},
   "outputs": [],
   "source": [
    "hh_target.iloc[:,0:5]"
   ]
  },
  {
   "cell_type": "code",
   "execution_count": null,
   "metadata": {},
   "outputs": [],
   "source": []
  }
 ],
 "metadata": {
  "kernelspec": {
   "display_name": "spop",
   "language": "python",
   "name": "spop"
  },
  "language_info": {
   "codemirror_mode": {
    "name": "ipython",
    "version": 3
   },
   "file_extension": ".py",
   "mimetype": "text/x-python",
   "name": "python",
   "nbconvert_exporter": "python",
   "pygments_lexer": "ipython3",
   "version": "3.6.9"
  }
 },
 "nbformat": 4,
 "nbformat_minor": 4
}
