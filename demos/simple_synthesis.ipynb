{
 "cells": [
  {
   "cell_type": "code",
   "execution_count": 1,
   "metadata": {
    "collapsed": false
   },
   "outputs": [],
   "source": [
    "from synthpop.synthesizer import synthesize, enable_logging\n",
    "import synthpop.categorizer as cat\n",
    "\n",
    "import multiprocessing\n",
    "import os\n",
    "\n",
    "from functools import partial\n",
    "import pandas as pd\n",
    "\n",
    "import synthpop.general_synthesizer as gs"
   ]
  },
  {
   "cell_type": "code",
   "execution_count": 2,
   "metadata": {
    "collapsed": true
   },
   "outputs": [],
   "source": [
    "hh_marginal_file = 'input_data/hh_marginals.csv'\n",
    "person_marginal_file = 'input_data/person_marginals.csv'\n",
    "hh_sample_file = 'input_data/household_sample.csv'\n",
    "person_sample_file = 'input_data/person_sample.csv'"
   ]
  },
  {
   "cell_type": "code",
   "execution_count": 3,
   "metadata": {
    "collapsed": true
   },
   "outputs": [],
   "source": [
    "hh_marg, p_marg, hh_sample, p_sample, xwalk = gs.load_data(hh_marginal_file, person_marginal_file, hh_sample_file, person_sample_file)"
   ]
  },
  {
   "cell_type": "code",
   "execution_count": 4,
   "metadata": {
    "collapsed": false
   },
   "outputs": [
    {
     "name": "stderr",
     "output_type": "stream",
     "text": [
      "/Applications/synthpop/synthpop/ipu/ipu.py:190: RuntimeWarning: divide by zero encountered in double_scalars\n",
      "  adj = constraint / (column * weights).sum()\n"
     ]
    },
    {
     "name": "stdout",
     "output_type": "stream",
     "text": [
      "Drawing 254 households\n",
      "Drawing 306 households\n",
      "Drawing 356 households\n",
      "Drawing 390 households\n",
      "Drawing 601 households\n",
      "Drawing 324 households\n",
      "Drawing 556 households\n",
      "Drawing 342 households\n",
      "Drawing 273 households\n",
      "Drawing 228 households\n",
      "Drawing 857 households\n",
      "Drawing 748 households\n",
      "Drawing 744 households\n",
      "Drawing 953 households\n",
      "Drawing 719 households\n",
      "Drawing 185 households\n",
      "Drawing 183 households\n",
      "Drawing 286 households\n",
      "Drawing 317 households\n",
      "Drawing 711 households\n",
      "Drawing 345 households\n"
     ]
    }
   ],
   "source": [
    "all_households, all_persons, all_stats = gs.synthesize_all_zones(hh_marg, p_marg, hh_sample, p_sample, xwalk)"
   ]
  },
  {
   "cell_type": "code",
   "execution_count": 5,
   "metadata": {
    "collapsed": false
   },
   "outputs": [
    {
     "name": "stdout",
     "output_type": "stream",
     "text": [
      "Drawing 390 households\n",
      "Drawing 254 households\n",
      "Drawing 306 households\n",
      "Drawing 601 households\n",
      "Drawing 356 households\n",
      "Drawing 324 households\n",
      "Drawing 556 households\n",
      "Drawing 273 households\n",
      "Drawing 342 households\n",
      "Drawing 228 households\n",
      "Drawing 748 households\n",
      "Drawing 857 households\n",
      "Drawing 744 households\n",
      "Drawing 953 households\n",
      "Drawing 719 households\n",
      "Drawing 183 households\n",
      "Drawing 317 households\n",
      "Drawing 185 households\n",
      "Drawing 286 households\n",
      "Drawing 711 households\n",
      "Drawing 345 households\n"
     ]
    }
   ],
   "source": [
    "all_persons, all_households, all_stats = gs.multiprocess_synthesize(hh_marg, p_marg, hh_sample, p_sample, xwalk)"
   ]
  }
 ],
 "metadata": {
  "kernelspec": {
   "display_name": "Python 2",
   "language": "python",
   "name": "python2"
  },
  "language_info": {
   "codemirror_mode": {
    "name": "ipython",
    "version": 2
   },
   "file_extension": ".py",
   "mimetype": "text/x-python",
   "name": "python",
   "nbconvert_exporter": "python",
   "pygments_lexer": "ipython2",
   "version": "2.7.11"
  }
 },
 "nbformat": 4,
 "nbformat_minor": 0
}
