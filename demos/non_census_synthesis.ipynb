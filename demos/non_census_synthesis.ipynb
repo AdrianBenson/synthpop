{
 "cells": [
  {
   "cell_type": "code",
   "execution_count": 1,
   "metadata": {
    "collapsed": false
   },
   "outputs": [],
   "source": [
    "import pandas as pd\n",
    "\n",
    "import synthpop.general_synthesizer as gs"
   ]
  },
  {
   "cell_type": "markdown",
   "metadata": {},
   "source": [
    "#### Specify sample data csv paths. See the files listed here for expected structure. Marginal tables require multi-indexed columns with category name and category value in levels 0 and 1 of the index. Sample file category columns should be labeled with corresponding category names and values in those columns should match the category value headers in the marginal table."
   ]
  },
  {
   "cell_type": "code",
   "execution_count": 2,
   "metadata": {
    "collapsed": true
   },
   "outputs": [],
   "source": [
    "hh_marginal_file = 'input_data/hh_marginals.csv'\n",
    "person_marginal_file = 'input_data/person_marginals.csv'\n",
    "hh_sample_file = 'input_data/household_sample.csv'\n",
    "person_sample_file = 'input_data/person_sample.csv'"
   ]
  },
  {
   "cell_type": "markdown",
   "metadata": {},
   "source": [
    "#### Load and process input marginals and samples and geography crosswalk"
   ]
  },
  {
   "cell_type": "code",
   "execution_count": 3,
   "metadata": {
    "collapsed": true
   },
   "outputs": [],
   "source": [
    "hh_marg, p_marg, hh_sample, p_sample, xwalk = gs.load_data(hh_marginal_file, person_marginal_file, hh_sample_file, person_sample_file)"
   ]
  },
  {
   "cell_type": "markdown",
   "metadata": {},
   "source": [
    "#### Iterate over all marginals in the geography crosswalk and synthesize in-line"
   ]
  },
  {
   "cell_type": "code",
   "execution_count": 4,
   "metadata": {
    "collapsed": false
   },
   "outputs": [
    {
     "name": "stderr",
     "output_type": "stream",
     "text": [
      "/Applications/synthpop/synthpop/ipu/ipu.py:190: RuntimeWarning: divide by zero encountered in double_scalars\n",
      "  adj = constraint / (column * weights).sum()\n"
     ]
    },
    {
     "name": "stdout",
     "output_type": "stream",
     "text": [
      "Drawing 254 households\n",
      "Drawing 306 households\n",
      "Drawing 356 households\n",
      "Drawing 390 households\n",
      "Drawing 601 households\n",
      "Drawing 324 households\n",
      "Drawing 556 households\n",
      "Drawing 342 households\n",
      "Drawing 273 households\n",
      "Drawing 228 households\n",
      "Drawing 857 households\n",
      "Drawing 748 households\n",
      "Drawing 744 households\n",
      "Drawing 953 households\n",
      "Drawing 719 households\n",
      "Drawing 185 households\n",
      "Drawing 183 households\n",
      "Drawing 286 households\n",
      "Drawing 317 households\n",
      "Drawing 711 households\n",
      "Drawing 345 households\n"
     ]
    }
   ],
   "source": [
    "all_households, all_persons, all_stats = gs.synthesize_all_zones(hh_marg, p_marg, hh_sample, p_sample, xwalk)"
   ]
  },
  {
   "cell_type": "code",
   "execution_count": 7,
   "metadata": {
    "collapsed": false
   },
   "outputs": [
    {
     "data": {
      "text/html": [
       "<div>\n",
       "<table border=\"1\" class=\"dataframe\">\n",
       "  <thead>\n",
       "    <tr style=\"text-align: right;\">\n",
       "      <th></th>\n",
       "      <th>serialno</th>\n",
       "      <th>sample_geog</th>\n",
       "      <th>cars</th>\n",
       "      <th>workers</th>\n",
       "      <th>children</th>\n",
       "      <th>income</th>\n",
       "      <th>VEH</th>\n",
       "      <th>FINCP</th>\n",
       "      <th>NOC</th>\n",
       "      <th>WIF</th>\n",
       "      <th>cat_id</th>\n",
       "      <th>geog</th>\n",
       "    </tr>\n",
       "  </thead>\n",
       "  <tbody>\n",
       "    <tr>\n",
       "      <th>1</th>\n",
       "      <td>2009000465330</td>\n",
       "      <td>1</td>\n",
       "      <td>none</td>\n",
       "      <td>none</td>\n",
       "      <td>no</td>\n",
       "      <td>lt35</td>\n",
       "      <td>0</td>\n",
       "      <td>NaN</td>\n",
       "      <td>0</td>\n",
       "      <td>NaN</td>\n",
       "      <td>2</td>\n",
       "      <td>1</td>\n",
       "    </tr>\n",
       "    <tr>\n",
       "      <th>2</th>\n",
       "      <td>2010000726700</td>\n",
       "      <td>1</td>\n",
       "      <td>none</td>\n",
       "      <td>none</td>\n",
       "      <td>yes</td>\n",
       "      <td>lt35</td>\n",
       "      <td>0</td>\n",
       "      <td>15300.0</td>\n",
       "      <td>1</td>\n",
       "      <td>0.0</td>\n",
       "      <td>5</td>\n",
       "      <td>1</td>\n",
       "    </tr>\n",
       "    <tr>\n",
       "      <th>3</th>\n",
       "      <td>2010000141368</td>\n",
       "      <td>1</td>\n",
       "      <td>none</td>\n",
       "      <td>none</td>\n",
       "      <td>yes</td>\n",
       "      <td>lt35</td>\n",
       "      <td>0</td>\n",
       "      <td>3500.0</td>\n",
       "      <td>1</td>\n",
       "      <td>0.0</td>\n",
       "      <td>5</td>\n",
       "      <td>1</td>\n",
       "    </tr>\n",
       "    <tr>\n",
       "      <th>4</th>\n",
       "      <td>2010000262947</td>\n",
       "      <td>1</td>\n",
       "      <td>none</td>\n",
       "      <td>none</td>\n",
       "      <td>yes</td>\n",
       "      <td>lt35</td>\n",
       "      <td>0</td>\n",
       "      <td>0.0</td>\n",
       "      <td>1</td>\n",
       "      <td>0.0</td>\n",
       "      <td>5</td>\n",
       "      <td>1</td>\n",
       "    </tr>\n",
       "    <tr>\n",
       "      <th>5</th>\n",
       "      <td>2010000262947</td>\n",
       "      <td>1</td>\n",
       "      <td>none</td>\n",
       "      <td>none</td>\n",
       "      <td>yes</td>\n",
       "      <td>lt35</td>\n",
       "      <td>0</td>\n",
       "      <td>0.0</td>\n",
       "      <td>1</td>\n",
       "      <td>0.0</td>\n",
       "      <td>5</td>\n",
       "      <td>1</td>\n",
       "    </tr>\n",
       "  </tbody>\n",
       "</table>\n",
       "</div>"
      ],
      "text/plain": [
       "        serialno  sample_geog  cars workers children income  VEH    FINCP  \\\n",
       "1  2009000465330            1  none    none       no   lt35    0      NaN   \n",
       "2  2010000726700            1  none    none      yes   lt35    0  15300.0   \n",
       "3  2010000141368            1  none    none      yes   lt35    0   3500.0   \n",
       "4  2010000262947            1  none    none      yes   lt35    0      0.0   \n",
       "5  2010000262947            1  none    none      yes   lt35    0      0.0   \n",
       "\n",
       "   NOC  WIF  cat_id  geog  \n",
       "1    0  NaN       2     1  \n",
       "2    1  0.0       5     1  \n",
       "3    1  0.0       5     1  \n",
       "4    1  0.0       5     1  \n",
       "5    1  0.0       5     1  "
      ]
     },
     "execution_count": 7,
     "metadata": {},
     "output_type": "execute_result"
    }
   ],
   "source": [
    "all_households.head()"
   ]
  },
  {
   "cell_type": "markdown",
   "metadata": {},
   "source": [
    "#### all_persons.household_id maps person records to all_households.index"
   ]
  },
  {
   "cell_type": "code",
   "execution_count": 8,
   "metadata": {
    "collapsed": false
   },
   "outputs": [
    {
     "data": {
      "text/html": [
       "<div>\n",
       "<table border=\"1\" class=\"dataframe\">\n",
       "  <thead>\n",
       "    <tr style=\"text-align: right;\">\n",
       "      <th></th>\n",
       "      <th>serialno</th>\n",
       "      <th>sample_geog</th>\n",
       "      <th>age</th>\n",
       "      <th>race</th>\n",
       "      <th>sex</th>\n",
       "      <th>AGEP</th>\n",
       "      <th>SEX</th>\n",
       "      <th>RAC1P</th>\n",
       "      <th>cat_id</th>\n",
       "      <th>household_id</th>\n",
       "    </tr>\n",
       "  </thead>\n",
       "  <tbody>\n",
       "    <tr>\n",
       "      <th>0</th>\n",
       "      <td>2012000136005</td>\n",
       "      <td>1</td>\n",
       "      <td>20 to 35</td>\n",
       "      <td>white</td>\n",
       "      <td>male</td>\n",
       "      <td>31</td>\n",
       "      <td>1</td>\n",
       "      <td>1</td>\n",
       "      <td>69</td>\n",
       "      <td>94</td>\n",
       "    </tr>\n",
       "    <tr>\n",
       "      <th>1</th>\n",
       "      <td>2012000136005</td>\n",
       "      <td>1</td>\n",
       "      <td>35 to 60</td>\n",
       "      <td>white</td>\n",
       "      <td>female</td>\n",
       "      <td>36</td>\n",
       "      <td>2</td>\n",
       "      <td>1</td>\n",
       "      <td>76</td>\n",
       "      <td>94</td>\n",
       "    </tr>\n",
       "    <tr>\n",
       "      <th>2</th>\n",
       "      <td>2012000136005</td>\n",
       "      <td>1</td>\n",
       "      <td>19 and under</td>\n",
       "      <td>white</td>\n",
       "      <td>male</td>\n",
       "      <td>10</td>\n",
       "      <td>1</td>\n",
       "      <td>1</td>\n",
       "      <td>61</td>\n",
       "      <td>94</td>\n",
       "    </tr>\n",
       "    <tr>\n",
       "      <th>3</th>\n",
       "      <td>2012000136005</td>\n",
       "      <td>1</td>\n",
       "      <td>19 and under</td>\n",
       "      <td>white</td>\n",
       "      <td>male</td>\n",
       "      <td>8</td>\n",
       "      <td>1</td>\n",
       "      <td>1</td>\n",
       "      <td>61</td>\n",
       "      <td>94</td>\n",
       "    </tr>\n",
       "    <tr>\n",
       "      <th>4</th>\n",
       "      <td>2012000136005</td>\n",
       "      <td>1</td>\n",
       "      <td>19 and under</td>\n",
       "      <td>white</td>\n",
       "      <td>male</td>\n",
       "      <td>5</td>\n",
       "      <td>1</td>\n",
       "      <td>1</td>\n",
       "      <td>61</td>\n",
       "      <td>94</td>\n",
       "    </tr>\n",
       "  </tbody>\n",
       "</table>\n",
       "</div>"
      ],
      "text/plain": [
       "        serialno  sample_geog           age   race     sex  AGEP  SEX  RAC1P  \\\n",
       "0  2012000136005            1      20 to 35  white    male    31    1      1   \n",
       "1  2012000136005            1      35 to 60  white  female    36    2      1   \n",
       "2  2012000136005            1  19 and under  white    male    10    1      1   \n",
       "3  2012000136005            1  19 and under  white    male     8    1      1   \n",
       "4  2012000136005            1  19 and under  white    male     5    1      1   \n",
       "\n",
       "   cat_id  household_id  \n",
       "0      69            94  \n",
       "1      76            94  \n",
       "2      61            94  \n",
       "3      61            94  \n",
       "4      61            94  "
      ]
     },
     "execution_count": 8,
     "metadata": {},
     "output_type": "execute_result"
    }
   ],
   "source": [
    "all_persons.head()"
   ]
  },
  {
   "cell_type": "markdown",
   "metadata": {},
   "source": [
    "#### Synthesize all marginal geographies in the crosswalk using a specified or default number of cores via multiprocessing"
   ]
  },
  {
   "cell_type": "code",
   "execution_count": 4,
   "metadata": {
    "collapsed": false
   },
   "outputs": [
    {
     "name": "stderr",
     "output_type": "stream",
     "text": [
      "/Applications/synthpop/synthpop/ipu/ipu.py:190: RuntimeWarning: divide by zero encountered in double_scalars\n",
      "  adj = constraint / (column * weights).sum()\n",
      "/Applications/synthpop/synthpop/ipu/ipu.py:190: RuntimeWarning: divide by zero encountered in double_scalars\n",
      "  adj = constraint / (column * weights).sum()\n",
      "/Applications/synthpop/synthpop/ipu/ipu.py:190: RuntimeWarning: divide by zero encountered in double_scalars\n",
      "  adj = constraint / (column * weights).sum()\n",
      "/Applications/synthpop/synthpop/ipu/ipu.py:190: RuntimeWarning: divide by zero encountered in double_scalars\n",
      "  adj = constraint / (column * weights).sum()\n",
      "/Applications/synthpop/synthpop/ipu/ipu.py:190: RuntimeWarning: divide by zero encountered in double_scalars\n",
      "  adj = constraint / (column * weights).sum()\n",
      "/Applications/synthpop/synthpop/ipu/ipu.py:190: RuntimeWarning: divide by zero encountered in double_scalars\n",
      "  adj = constraint / (column * weights).sum()\n",
      "/Applications/synthpop/synthpop/ipu/ipu.py:190: RuntimeWarning: divide by zero encountered in double_scalars\n",
      "  adj = constraint / (column * weights).sum()\n"
     ]
    },
    {
     "name": "stdout",
     "output_type": "stream",
     "text": [
      "Drawing 390 households\n",
      "Drawing 306 households\n",
      "Drawing 254 households\n",
      "Drawing 601 households\n",
      "Drawing 356 households\n",
      "Drawing 324 households\n",
      "Drawing 556 households\n",
      "Drawing 273 households\n",
      "Drawing 342 households\n",
      "Drawing 228 households\n",
      "Drawing 748 households\n",
      "Drawing 857 households\n",
      "Drawing 744 households\n",
      "Drawing 953 households\n",
      "Drawing 719 households\n",
      "Drawing 183 households\n",
      "Drawing 185 households\n",
      "Drawing 317 households\n",
      "Drawing 286 households\n",
      "Drawing 711 households\n",
      "Drawing 345 households\n"
     ]
    }
   ],
   "source": [
    "all_persons, all_households, all_stats = gs.multiprocess_synthesize(hh_marg, p_marg, hh_sample, p_sample, xwalk)"
   ]
  },
  {
   "cell_type": "code",
   "execution_count": 5,
   "metadata": {
    "collapsed": false
   },
   "outputs": [
    {
     "data": {
      "text/html": [
       "<div>\n",
       "<table border=\"1\" class=\"dataframe\">\n",
       "  <thead>\n",
       "    <tr style=\"text-align: right;\">\n",
       "      <th></th>\n",
       "      <th>serialno</th>\n",
       "      <th>sample_geog</th>\n",
       "      <th>age</th>\n",
       "      <th>race</th>\n",
       "      <th>sex</th>\n",
       "      <th>AGEP</th>\n",
       "      <th>SEX</th>\n",
       "      <th>RAC1P</th>\n",
       "      <th>cat_id</th>\n",
       "      <th>geog</th>\n",
       "      <th>household_id</th>\n",
       "    </tr>\n",
       "  </thead>\n",
       "  <tbody>\n",
       "    <tr>\n",
       "      <th>0</th>\n",
       "      <td>2012000807300</td>\n",
       "      <td>1</td>\n",
       "      <td>20 to 35</td>\n",
       "      <td>white</td>\n",
       "      <td>male</td>\n",
       "      <td>32</td>\n",
       "      <td>1</td>\n",
       "      <td>1</td>\n",
       "      <td>69</td>\n",
       "      <td>1</td>\n",
       "      <td>201</td>\n",
       "    </tr>\n",
       "    <tr>\n",
       "      <th>1</th>\n",
       "      <td>2012000807300</td>\n",
       "      <td>1</td>\n",
       "      <td>20 to 35</td>\n",
       "      <td>white</td>\n",
       "      <td>female</td>\n",
       "      <td>31</td>\n",
       "      <td>2</td>\n",
       "      <td>1</td>\n",
       "      <td>68</td>\n",
       "      <td>1</td>\n",
       "      <td>201</td>\n",
       "    </tr>\n",
       "    <tr>\n",
       "      <th>2</th>\n",
       "      <td>2012000807300</td>\n",
       "      <td>1</td>\n",
       "      <td>19 and under</td>\n",
       "      <td>white</td>\n",
       "      <td>male</td>\n",
       "      <td>5</td>\n",
       "      <td>1</td>\n",
       "      <td>1</td>\n",
       "      <td>61</td>\n",
       "      <td>1</td>\n",
       "      <td>201</td>\n",
       "    </tr>\n",
       "    <tr>\n",
       "      <th>3</th>\n",
       "      <td>2012001145110</td>\n",
       "      <td>1</td>\n",
       "      <td>20 to 35</td>\n",
       "      <td>white</td>\n",
       "      <td>male</td>\n",
       "      <td>32</td>\n",
       "      <td>1</td>\n",
       "      <td>1</td>\n",
       "      <td>69</td>\n",
       "      <td>1</td>\n",
       "      <td>199</td>\n",
       "    </tr>\n",
       "    <tr>\n",
       "      <th>4</th>\n",
       "      <td>2012001145110</td>\n",
       "      <td>1</td>\n",
       "      <td>20 to 35</td>\n",
       "      <td>white</td>\n",
       "      <td>female</td>\n",
       "      <td>29</td>\n",
       "      <td>2</td>\n",
       "      <td>1</td>\n",
       "      <td>68</td>\n",
       "      <td>1</td>\n",
       "      <td>199</td>\n",
       "    </tr>\n",
       "  </tbody>\n",
       "</table>\n",
       "</div>"
      ],
      "text/plain": [
       "        serialno  sample_geog           age   race     sex  AGEP  SEX  RAC1P  \\\n",
       "0  2012000807300            1      20 to 35  white    male    32    1      1   \n",
       "1  2012000807300            1      20 to 35  white  female    31    2      1   \n",
       "2  2012000807300            1  19 and under  white    male     5    1      1   \n",
       "3  2012001145110            1      20 to 35  white    male    32    1      1   \n",
       "4  2012001145110            1      20 to 35  white  female    29    2      1   \n",
       "\n",
       "   cat_id  geog  household_id  \n",
       "0      69     1           201  \n",
       "1      68     1           201  \n",
       "2      61     1           201  \n",
       "3      69     1           199  \n",
       "4      68     1           199  "
      ]
     },
     "execution_count": 5,
     "metadata": {},
     "output_type": "execute_result"
    }
   ],
   "source": [
    "all_persons.head()"
   ]
  },
  {
   "cell_type": "code",
   "execution_count": 6,
   "metadata": {
    "collapsed": false
   },
   "outputs": [
    {
     "data": {
      "text/html": [
       "<div>\n",
       "<table border=\"1\" class=\"dataframe\">\n",
       "  <thead>\n",
       "    <tr style=\"text-align: right;\">\n",
       "      <th></th>\n",
       "      <th>serialno</th>\n",
       "      <th>sample_geog</th>\n",
       "      <th>cars</th>\n",
       "      <th>workers</th>\n",
       "      <th>children</th>\n",
       "      <th>income</th>\n",
       "      <th>VEH</th>\n",
       "      <th>FINCP</th>\n",
       "      <th>NOC</th>\n",
       "      <th>WIF</th>\n",
       "      <th>cat_id</th>\n",
       "      <th>geog</th>\n",
       "    </tr>\n",
       "    <tr>\n",
       "      <th>household_id</th>\n",
       "      <th></th>\n",
       "      <th></th>\n",
       "      <th></th>\n",
       "      <th></th>\n",
       "      <th></th>\n",
       "      <th></th>\n",
       "      <th></th>\n",
       "      <th></th>\n",
       "      <th></th>\n",
       "      <th></th>\n",
       "      <th></th>\n",
       "      <th></th>\n",
       "    </tr>\n",
       "  </thead>\n",
       "  <tbody>\n",
       "    <tr>\n",
       "      <th>1</th>\n",
       "      <td>2011000329968</td>\n",
       "      <td>1</td>\n",
       "      <td>none</td>\n",
       "      <td>none</td>\n",
       "      <td>no</td>\n",
       "      <td>lt35</td>\n",
       "      <td>0</td>\n",
       "      <td>NaN</td>\n",
       "      <td>0</td>\n",
       "      <td>NaN</td>\n",
       "      <td>2</td>\n",
       "      <td>1</td>\n",
       "    </tr>\n",
       "    <tr>\n",
       "      <th>2</th>\n",
       "      <td>2012001476110</td>\n",
       "      <td>1</td>\n",
       "      <td>none</td>\n",
       "      <td>none</td>\n",
       "      <td>yes</td>\n",
       "      <td>lt35</td>\n",
       "      <td>0</td>\n",
       "      <td>3100.0</td>\n",
       "      <td>3</td>\n",
       "      <td>0.0</td>\n",
       "      <td>5</td>\n",
       "      <td>1</td>\n",
       "    </tr>\n",
       "    <tr>\n",
       "      <th>3</th>\n",
       "      <td>2009000455972</td>\n",
       "      <td>1</td>\n",
       "      <td>none</td>\n",
       "      <td>none</td>\n",
       "      <td>yes</td>\n",
       "      <td>lt35</td>\n",
       "      <td>0</td>\n",
       "      <td>3500.0</td>\n",
       "      <td>2</td>\n",
       "      <td>0.0</td>\n",
       "      <td>5</td>\n",
       "      <td>1</td>\n",
       "    </tr>\n",
       "    <tr>\n",
       "      <th>4</th>\n",
       "      <td>2010000136520</td>\n",
       "      <td>1</td>\n",
       "      <td>none</td>\n",
       "      <td>none</td>\n",
       "      <td>yes</td>\n",
       "      <td>lt35</td>\n",
       "      <td>0</td>\n",
       "      <td>8340.0</td>\n",
       "      <td>2</td>\n",
       "      <td>0.0</td>\n",
       "      <td>5</td>\n",
       "      <td>1</td>\n",
       "    </tr>\n",
       "    <tr>\n",
       "      <th>5</th>\n",
       "      <td>2010000262947</td>\n",
       "      <td>1</td>\n",
       "      <td>none</td>\n",
       "      <td>none</td>\n",
       "      <td>yes</td>\n",
       "      <td>lt35</td>\n",
       "      <td>0</td>\n",
       "      <td>0.0</td>\n",
       "      <td>1</td>\n",
       "      <td>0.0</td>\n",
       "      <td>5</td>\n",
       "      <td>1</td>\n",
       "    </tr>\n",
       "  </tbody>\n",
       "</table>\n",
       "</div>"
      ],
      "text/plain": [
       "                   serialno  sample_geog  cars workers children income  VEH  \\\n",
       "household_id                                                                  \n",
       "1             2011000329968            1  none    none       no   lt35    0   \n",
       "2             2012001476110            1  none    none      yes   lt35    0   \n",
       "3             2009000455972            1  none    none      yes   lt35    0   \n",
       "4             2010000136520            1  none    none      yes   lt35    0   \n",
       "5             2010000262947            1  none    none      yes   lt35    0   \n",
       "\n",
       "               FINCP  NOC  WIF  cat_id  geog  \n",
       "household_id                                  \n",
       "1                NaN    0  NaN       2     1  \n",
       "2             3100.0    3  0.0       5     1  \n",
       "3             3500.0    2  0.0       5     1  \n",
       "4             8340.0    2  0.0       5     1  \n",
       "5                0.0    1  0.0       5     1  "
      ]
     },
     "execution_count": 6,
     "metadata": {},
     "output_type": "execute_result"
    }
   ],
   "source": [
    "all_households.head()"
   ]
  },
  {
   "cell_type": "code",
   "execution_count": 7,
   "metadata": {
    "collapsed": false
   },
   "outputs": [
    {
     "data": {
      "text/html": [
       "<div>\n",
       "<table border=\"1\" class=\"dataframe\">\n",
       "  <thead>\n",
       "    <tr style=\"text-align: right;\">\n",
       "      <th></th>\n",
       "      <th>chi-square</th>\n",
       "      <th>geog</th>\n",
       "      <th>p-score</th>\n",
       "    </tr>\n",
       "  </thead>\n",
       "  <tbody>\n",
       "    <tr>\n",
       "      <th>0</th>\n",
       "      <td>4.930438</td>\n",
       "      <td>1</td>\n",
       "      <td>9.867574e-01</td>\n",
       "    </tr>\n",
       "    <tr>\n",
       "      <th>1</th>\n",
       "      <td>157.742799</td>\n",
       "      <td>2</td>\n",
       "      <td>9.574513e-31</td>\n",
       "    </tr>\n",
       "    <tr>\n",
       "      <th>2</th>\n",
       "      <td>178.994862</td>\n",
       "      <td>3</td>\n",
       "      <td>2.720900e-31</td>\n",
       "    </tr>\n",
       "    <tr>\n",
       "      <th>3</th>\n",
       "      <td>93.914785</td>\n",
       "      <td>4</td>\n",
       "      <td>6.877896e-14</td>\n",
       "    </tr>\n",
       "    <tr>\n",
       "      <th>4</th>\n",
       "      <td>499.267894</td>\n",
       "      <td>5</td>\n",
       "      <td>1.151837e-103</td>\n",
       "    </tr>\n",
       "  </tbody>\n",
       "</table>\n",
       "</div>"
      ],
      "text/plain": [
       "   chi-square  geog        p-score\n",
       "0    4.930438     1   9.867574e-01\n",
       "1  157.742799     2   9.574513e-31\n",
       "2  178.994862     3   2.720900e-31\n",
       "3   93.914785     4   6.877896e-14\n",
       "4  499.267894     5  1.151837e-103"
      ]
     },
     "execution_count": 7,
     "metadata": {},
     "output_type": "execute_result"
    }
   ],
   "source": [
    "all_stats.head()"
   ]
  }
 ],
 "metadata": {
  "kernelspec": {
   "display_name": "Python 2",
   "language": "python",
   "name": "python2"
  },
  "language_info": {
   "codemirror_mode": {
    "name": "ipython",
    "version": 2
   },
   "file_extension": ".py",
   "mimetype": "text/x-python",
   "name": "python",
   "nbconvert_exporter": "python",
   "pygments_lexer": "ipython2",
   "version": "2.7.11"
  }
 },
 "nbformat": 4,
 "nbformat_minor": 0
}
